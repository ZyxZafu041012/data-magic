{
  "nbformat": 4,
  "nbformat_minor": 0,
  "metadata": {
    "colab": {
      "provenance": []
    },
    "kernelspec": {
      "name": "python3",
      "display_name": "Python 3"
    },
    "language_info": {
      "name": "python"
    }
  },
  "cells": [
    {
      "cell_type": "code",
      "execution_count": 5,
      "metadata": {
        "id": "kjHoqvrbKjuX",
        "colab": {
          "base_uri": "https://localhost:8080/"
        },
        "outputId": "28a12ded-d491-4793-cdc7-ed3678f98440"
      },
      "outputs": [
        {
          "output_type": "stream",
          "name": "stdout",
          "text": [
            "  satisfaction  Gender   Customer Type  Age   Type of Travel     Class  \\\n",
            "0    satisfied  Female  Loyal Customer   65  Personal Travel       Eco   \n",
            "1    satisfied    Male  Loyal Customer   47  Personal Travel  Business   \n",
            "2    satisfied  Female  Loyal Customer   15  Personal Travel       Eco   \n",
            "3    satisfied  Female  Loyal Customer   60  Personal Travel       Eco   \n",
            "4    satisfied  Female  Loyal Customer   70  Personal Travel       Eco   \n",
            "\n",
            "   Flight Distance  Seat comfort  Departure/Arrival time convenient  \\\n",
            "0              265             0                                  0   \n",
            "1             2464             0                                  0   \n",
            "2             2138             0                                  0   \n",
            "3              623             0                                  0   \n",
            "4              354             0                                  0   \n",
            "\n",
            "   Food and drink  ...  Online support  Ease of Online booking  \\\n",
            "0               0  ...               2                       3   \n",
            "1               0  ...               2                       3   \n",
            "2               0  ...               2                       2   \n",
            "3               0  ...               3                       1   \n",
            "4               0  ...               4                       2   \n",
            "\n",
            "   On-board service  Leg room service  Baggage handling  Checkin service  \\\n",
            "0                 3                 0                 3                5   \n",
            "1                 4                 4                 4                2   \n",
            "2                 3                 3                 4                4   \n",
            "3                 1                 0                 1                4   \n",
            "4                 2                 0                 2                4   \n",
            "\n",
            "   Cleanliness  Online boarding  Departure Delay in Minutes  \\\n",
            "0            3                2                           0   \n",
            "1            3                2                         310   \n",
            "2            4                2                           0   \n",
            "3            1                3                           0   \n",
            "4            2                5                           0   \n",
            "\n",
            "   Arrival Delay in Minutes  \n",
            "0                       0.0  \n",
            "1                     305.0  \n",
            "2                       0.0  \n",
            "3                       0.0  \n",
            "4                       0.0  \n",
            "\n",
            "[5 rows x 23 columns]\n"
          ]
        }
      ],
      "source": [
        "import pandas as pd\n",
        "\n",
        "# 指定文件路径\n",
        "file_path = \"Invistico_Airline.csv\"\n",
        "\n",
        "# 读取 CSV 文件\n",
        "data = pd.read_csv(file_path)\n",
        "\n",
        "# 显示前几行数据\n",
        "print(data.head())  # 默认显示前 5 行"
      ]
    },
    {
      "cell_type": "code",
      "source": [],
      "metadata": {
        "id": "-JCD7mgpNaGS"
      },
      "execution_count": null,
      "outputs": []
    }
  ]
}